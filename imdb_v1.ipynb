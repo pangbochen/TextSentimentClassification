{
 "cells": [
  {
   "cell_type": "code",
   "execution_count": 1,
   "metadata": {},
   "outputs": [
    {
     "name": "stderr",
     "output_type": "stream",
     "text": [
      "C:\\Users\\pangbochen\\Anaconda3\\lib\\site-packages\\h5py\\__init__.py:36: FutureWarning: Conversion of the second argument of issubdtype from `float` to `np.floating` is deprecated. In future, it will be treated as `np.float64 == np.dtype(float).type`.\n",
      "  from ._conv import register_converters as _register_converters\n",
      "Using TensorFlow backend.\n"
     ]
    }
   ],
   "source": [
    "import numpy as np\n",
    "from keras.datasets import imdb  \n",
    "from matplotlib import pyplot  \n",
    "from keras.preprocessing import sequence  "
   ]
  },
  {
   "cell_type": "code",
   "execution_count": 2,
   "metadata": {},
   "outputs": [],
   "source": [
    "(X_train,y_train),(X_test,y_test)=imdb.load_data() "
   ]
  },
  {
   "cell_type": "code",
   "execution_count": 3,
   "metadata": {},
   "outputs": [
    {
     "data": {
      "text/plain": [
       "(25000,)"
      ]
     },
     "execution_count": 3,
     "metadata": {},
     "output_type": "execute_result"
    }
   ],
   "source": [
    "X_train.shape"
   ]
  },
  {
   "cell_type": "code",
   "execution_count": 4,
   "metadata": {},
   "outputs": [
    {
     "data": {
      "text/plain": [
       "(25000,)"
      ]
     },
     "execution_count": 4,
     "metadata": {},
     "output_type": "execute_result"
    }
   ],
   "source": [
    "y_train.shape"
   ]
  },
  {
   "cell_type": "code",
   "execution_count": 5,
   "metadata": {},
   "outputs": [
    {
     "data": {
      "text/plain": [
       "(25000,)"
      ]
     },
     "execution_count": 5,
     "metadata": {},
     "output_type": "execute_result"
    }
   ],
   "source": [
    "X_test.shape"
   ]
  },
  {
   "cell_type": "code",
   "execution_count": 6,
   "metadata": {},
   "outputs": [
    {
     "data": {
      "text/plain": [
       "1"
      ]
     },
     "execution_count": 6,
     "metadata": {},
     "output_type": "execute_result"
    }
   ],
   "source": [
    "y_train[0]"
   ]
  },
  {
   "cell_type": "code",
   "execution_count": 7,
   "metadata": {},
   "outputs": [
    {
     "data": {
      "text/plain": [
       "0"
      ]
     },
     "execution_count": 7,
     "metadata": {},
     "output_type": "execute_result"
    }
   ],
   "source": [
    "y_train[1]"
   ]
  },
  {
   "cell_type": "code",
   "execution_count": 8,
   "metadata": {
    "collapsed": true
   },
   "outputs": [],
   "source": [
    "from collections import Counter"
   ]
  },
  {
   "cell_type": "code",
   "execution_count": 9,
   "metadata": {
    "collapsed": true
   },
   "outputs": [],
   "source": [
    "cnt = Counter(y_train)"
   ]
  },
  {
   "cell_type": "code",
   "execution_count": 10,
   "metadata": {},
   "outputs": [
    {
     "data": {
      "text/plain": [
       "Counter({0: 12500, 1: 12500})"
      ]
     },
     "execution_count": 10,
     "metadata": {},
     "output_type": "execute_result"
    }
   ],
   "source": [
    "cnt"
   ]
  },
  {
   "cell_type": "code",
   "execution_count": 11,
   "metadata": {},
   "outputs": [
    {
     "data": {
      "text/plain": [
       "43"
      ]
     },
     "execution_count": 11,
     "metadata": {},
     "output_type": "execute_result"
    }
   ],
   "source": [
    "len(X_train[5])"
   ]
  },
  {
   "cell_type": "code",
   "execution_count": 12,
   "metadata": {
    "collapsed": true
   },
   "outputs": [],
   "source": [
    "cnt_len = Counter([len(node) for node in X_train])"
   ]
  },
  {
   "cell_type": "code",
   "execution_count": 13,
   "metadata": {},
   "outputs": [
    {
     "data": {
      "text/plain": [
       "array([0, 1], dtype=int64)"
      ]
     },
     "execution_count": 13,
     "metadata": {},
     "output_type": "execute_result"
    }
   ],
   "source": [
    "np.unique(y_train)"
   ]
  },
  {
   "cell_type": "code",
   "execution_count": 15,
   "metadata": {},
   "outputs": [
    {
     "data": {
      "text/plain": [
       "88585"
      ]
     },
     "execution_count": 15,
     "metadata": {},
     "output_type": "execute_result"
    }
   ],
   "source": [
    "len(np.unique(np.hstack(X_train))) # stack arrays in sequence horizontally (column wise)"
   ]
  },
  {
   "cell_type": "code",
   "execution_count": 16,
   "metadata": {
    "collapsed": true
   },
   "outputs": [],
   "source": [
    "result = list(map(len, X_train))"
   ]
  },
  {
   "cell_type": "code",
   "execution_count": 17,
   "metadata": {
    "collapsed": true
   },
   "outputs": [],
   "source": [
    "# sequence.pad_sequences\n",
    "# maxlen as 500, pre pad 0\n",
    "X_train = sequence.pad_sequences(X_train, maxlen=500)"
   ]
  },
  {
   "cell_type": "code",
   "execution_count": 18,
   "metadata": {},
   "outputs": [
    {
     "name": "stdout",
     "output_type": "stream",
     "text": [
      "500\n"
     ]
    }
   ],
   "source": [
    "print(len(X_train[0]))"
   ]
  },
  {
   "cell_type": "code",
   "execution_count": 19,
   "metadata": {},
   "outputs": [
    {
     "data": {
      "text/plain": [
       "238.71364"
      ]
     },
     "execution_count": 19,
     "metadata": {},
     "output_type": "execute_result"
    }
   ],
   "source": [
    "np.mean(result)"
   ]
  },
  {
   "cell_type": "code",
   "execution_count": 21,
   "metadata": {},
   "outputs": [
    {
     "data": {
      "text/plain": [
       "176.49367364852034"
      ]
     },
     "execution_count": 21,
     "metadata": {},
     "output_type": "execute_result"
    }
   ],
   "source": [
    "np.std(result)"
   ]
  },
  {
   "cell_type": "code",
   "execution_count": 22,
   "metadata": {},
   "outputs": [
    {
     "data": {
      "image/png": "[encoded data removed]",
      "text/plain": [
       "<matplotlib.figure.Figure at 0x1f4c07a12b0>"
      ]
     },
     "metadata": {},
     "output_type": "display_data"
    }
   ],
   "source": [
    "pyplot.subplot(121)  \n",
    "pyplot.boxplot(result)  \n",
    "pyplot.subplot(122)  \n",
    "pyplot.hist(result)  \n",
    "pyplot.show()  "
   ]
  },
  {
   "cell_type": "markdown",
   "metadata": {},
   "source": [
    "## Normal Nerual Network"
   ]
  },
  {
   "cell_type": "code",
   "execution_count": 23,
   "metadata": {
    "collapsed": true
   },
   "outputs": [],
   "source": [
    "import numpy as np\n",
    "from keras.datasets import imdb  \n",
    "from keras.models import Sequential  \n",
    "from keras.layers import Dense  \n",
    "from keras.layers import Flatten  \n",
    "from keras.layers.embeddings import Embedding  \n",
    "from keras.preprocessing import sequence  "
   ]
  },
  {
   "cell_type": "code",
   "execution_count": 25,
   "metadata": {},
   "outputs": [],
   "source": [
    "seed=7  \n",
    "np.random.seed(seed)  \n",
    "top_words=5000  \n",
    "test_split=0.33  \n",
    "(X_train,y_train),(X_test,y_test)=imdb.load_data(num_words=top_words)  "
   ]
  },
  {
   "cell_type": "code",
   "execution_count": 26,
   "metadata": {
    "collapsed": true
   },
   "outputs": [],
   "source": [
    "max_words = 500\n",
    "X_train = sequence.pad_sequences(X_train, maxlen=max_words)\n",
    "X_test = sequence.pad_sequences(X_test, maxlen=max_words)"
   ]
  },
  {
   "cell_type": "markdown",
   "metadata": {},
   "source": [
    "model"
   ]
  },
  {
   "cell_type": "code",
   "execution_count": 28,
   "metadata": {},
   "outputs": [],
   "source": [
    "model=Sequential()  \n",
    "model.add(Embedding(top_words,32,input_length=max_words))  \n",
    "model.add(Flatten())  \n",
    "model.add(Dense(250,activation='relu'))  \n",
    "model.add(Dense(1))  \n",
    "model.compile(loss='binary_crossentropy',optimizer='adam',metrics=['accuracy']) "
   ]
  },
  {
   "cell_type": "code",
   "execution_count": 29,
   "metadata": {},
   "outputs": [
    {
     "name": "stdout",
     "output_type": "stream",
     "text": [
      "_________________________________________________________________\n",
      "Layer (type)                 Output Shape              Param #   \n",
      "=================================================================\n",
      "embedding_1 (Embedding)      (None, 500, 32)           160000    \n",
      "_________________________________________________________________\n",
      "flatten_1 (Flatten)          (None, 16000)             0         \n",
      "_________________________________________________________________\n",
      "dense_1 (Dense)              (None, 250)               4000250   \n",
      "_________________________________________________________________\n",
      "dense_2 (Dense)              (None, 1)                 251       \n",
      "=================================================================\n",
      "Total params: 4,160,501\n",
      "Trainable params: 4,160,501\n",
      "Non-trainable params: 0\n",
      "_________________________________________________________________\n"
     ]
    }
   ],
   "source": [
    "model.summary()"
   ]
  },
  {
   "cell_type": "code",
   "execution_count": 30,
   "metadata": {},
   "outputs": [
    {
     "name": "stdout",
     "output_type": "stream",
     "text": [
      "Train on 25000 samples, validate on 25000 samples\n",
      "Epoch 1/20\n",
      "25000/25000 [==============================] - 25s 981us/step - loss: 0.6220 - acc: 0.6887 - val_loss: 0.4238 - val_acc: 0.8250\n",
      "Epoch 2/20\n",
      "25000/25000 [==============================] - 28s 1ms/step - loss: 0.3284 - acc: 0.8216 - val_loss: 0.4898 - val_acc: 0.8091\n",
      "Epoch 3/20\n",
      "25000/25000 [==============================] - 28s 1ms/step - loss: 0.4289 - acc: 0.7344 - val_loss: 0.8653 - val_acc: 0.6444\n",
      "Epoch 4/20\n",
      "25000/25000 [==============================] - 28s 1ms/step - loss: 0.2077 - acc: 0.5570 - val_loss: 0.8995 - val_acc: 0.5039\n",
      "Epoch 5/20\n",
      "25000/25000 [==============================] - 28s 1ms/step - loss: 0.1393 - acc: 0.4216 - val_loss: 0.9842 - val_acc: 0.4542\n",
      "Epoch 6/20\n",
      "25000/25000 [==============================] - 28s 1ms/step - loss: 0.1183 - acc: 0.3539 - val_loss: 3.2313 - val_acc: 0.2592\n",
      "Epoch 7/20\n",
      "25000/25000 [==============================] - 27s 1ms/step - loss: 0.7733 - acc: 0.4350 - val_loss: 1.0374 - val_acc: 0.5864\n",
      "Epoch 8/20\n",
      "25000/25000 [==============================] - 27s 1ms/step - loss: 0.3784 - acc: 0.5150 - val_loss: 1.3608 - val_acc: 0.4595\n",
      "Epoch 9/20\n",
      "25000/25000 [==============================] - 27s 1ms/step - loss: 0.1631 - acc: 0.4310 - val_loss: 1.2366 - val_acc: 0.3923\n",
      "Epoch 10/20\n",
      "25000/25000 [==============================] - 27s 1ms/step - loss: 0.1042 - acc: 0.3550 - val_loss: 1.2874 - val_acc: 0.3456\n",
      "Epoch 11/20\n",
      "25000/25000 [==============================] - 27s 1ms/step - loss: 0.0861 - acc: 0.2875 - val_loss: 1.3522 - val_acc: 0.3132\n",
      "Epoch 12/20\n",
      "25000/25000 [==============================] - 28s 1ms/step - loss: 0.0810 - acc: 0.2532 - val_loss: 1.3761 - val_acc: 0.2981\n",
      "Epoch 13/20\n",
      "25000/25000 [==============================] - 27s 1ms/step - loss: 0.0797 - acc: 0.2379 - val_loss: 1.4128 - val_acc: 0.2910\n",
      "Epoch 14/20\n",
      "25000/25000 [==============================] - 28s 1ms/step - loss: 0.0971 - acc: 0.2244 - val_loss: 1.5324 - val_acc: 0.2786\n",
      "Epoch 15/20\n",
      "25000/25000 [==============================] - 28s 1ms/step - loss: 0.0823 - acc: 0.1966 - val_loss: 1.5067 - val_acc: 0.2588\n",
      "Epoch 16/20\n",
      "25000/25000 [==============================] - 28s 1ms/step - loss: 0.0736 - acc: 0.1704 - val_loss: 1.5357 - val_acc: 0.2575\n",
      "Epoch 17/20\n",
      "25000/25000 [==============================] - 30s 1ms/step - loss: 0.0720 - acc: 0.1599 - val_loss: 1.5412 - val_acc: 0.2446\n",
      "Epoch 18/20\n",
      "25000/25000 [==============================] - 31s 1ms/step - loss: 0.3824 - acc: 0.1535 - val_loss: 2.0334 - val_acc: 0.1902\n",
      "Epoch 19/20\n",
      "25000/25000 [==============================] - 30s 1ms/step - loss: 0.5226 - acc: 0.1980 - val_loss: 1.7594 - val_acc: 0.2682\n",
      "Epoch 20/20\n",
      "25000/25000 [==============================] - 30s 1ms/step - loss: 1.3978 - acc: 0.1841 - val_loss: 2.7781 - val_acc: 0.1278\n"
     ]
    },
    {
     "data": {
      "text/plain": [
       "<keras.callbacks.History at 0x1f4bbe57b00>"
      ]
     },
     "execution_count": 30,
     "metadata": {},
     "output_type": "execute_result"
    }
   ],
   "source": [
    "model.fit(X_train, y_train, validation_data=(X_test, y_test), epochs=20, batch_size=128, verbose=1)"
   ]
  },
  {
   "cell_type": "code",
   "execution_count": 31,
   "metadata": {},
   "outputs": [
    {
     "data": {
      "text/plain": [
       "12.776000000000002"
      ]
     },
     "execution_count": 31,
     "metadata": {},
     "output_type": "execute_result"
    }
   ],
   "source": [
    "scores=model.evaluate(X_test, y_test, verbose=0)\n",
    "scores[1]*100"
   ]
  },
  {
   "cell_type": "markdown",
   "metadata": {},
   "source": [
    "## CNN\n"
   ]
  },
  {
   "cell_type": "code",
   "execution_count": 32,
   "metadata": {},
   "outputs": [
    {
     "name": "stderr",
     "output_type": "stream",
     "text": [
      "C:\\Users\\pangbochen\\Anaconda3\\lib\\site-packages\\ipykernel_launcher.py:24: UserWarning: Update your `Conv1D` call to the Keras 2 API: `Conv1D(activation=\"relu\", filters=32, kernel_size=3, padding=\"same\")`\n",
      "C:\\Users\\pangbochen\\Anaconda3\\lib\\site-packages\\ipykernel_launcher.py:25: UserWarning: Update your `MaxPooling1D` call to the Keras 2 API: `MaxPooling1D(pool_size=2)`\n",
      "C:\\Users\\pangbochen\\Anaconda3\\lib\\site-packages\\keras\\models.py:981: UserWarning: The `nb_epoch` argument in `fit` has been renamed `epochs`.\n",
      "  warnings.warn('The `nb_epoch` argument in `fit` '\n"
     ]
    },
    {
     "name": "stdout",
     "output_type": "stream",
     "text": [
      "_________________________________________________________________\n",
      "Layer (type)                 Output Shape              Param #   \n",
      "=================================================================\n",
      "embedding_2 (Embedding)      (None, 500, 32)           160000    \n",
      "_________________________________________________________________\n",
      "conv1d_1 (Conv1D)            (None, 500, 32)           3104      \n",
      "_________________________________________________________________\n",
      "max_pooling1d_1 (MaxPooling1 (None, 250, 32)           0         \n",
      "_________________________________________________________________\n",
      "flatten_2 (Flatten)          (None, 8000)              0         \n",
      "_________________________________________________________________\n",
      "dense_3 (Dense)              (None, 250)               2000250   \n",
      "_________________________________________________________________\n",
      "dense_4 (Dense)              (None, 1)                 251       \n",
      "=================================================================\n",
      "Total params: 2,163,605\n",
      "Trainable params: 2,163,605\n",
      "Non-trainable params: 0\n",
      "_________________________________________________________________\n",
      "None\n",
      "Train on 25000 samples, validate on 25000 samples\n",
      "Epoch 1/2\n",
      "25000/25000 [==============================] - 31s 1ms/step - loss: 0.4785 - acc: 0.7392 - val_loss: 0.2817 - val_acc: 0.8828\n",
      "Epoch 2/2\n",
      "25000/25000 [==============================] - 32s 1ms/step - loss: 0.2235 - acc: 0.9116 - val_loss: 0.2769 - val_acc: 0.8835\n",
      "Accuracy: 88.35%\n"
     ]
    }
   ],
   "source": [
    "# CNN for the IMDB problem  \n",
    "import numpy  \n",
    "from keras.datasets import imdb  \n",
    "from keras.models import Sequential  \n",
    "from keras.layers import Dense  \n",
    "from keras.layers import Flatten  \n",
    "from keras.layers.convolutional import Convolution1D  \n",
    "from keras.layers.convolutional import MaxPooling1D  \n",
    "from keras.layers.embeddings import Embedding  \n",
    "from keras.preprocessing import sequence  \n",
    "  \n",
    "seed = 7  \n",
    "numpy.random.seed(seed)  \n",
    "# load the dataset but only keep the top n words, zero the rest  \n",
    "top_words = 5000  \n",
    "test_split = 0.33  \n",
    "(X_train, y_train), (X_test, y_test) = imdb.load_data(num_words=top_words)  \n",
    "# pad dataset to a maximum review length in words  \n",
    "max_words = 500  \n",
    "X_train = sequence.pad_sequences(X_train, maxlen=max_words)  \n",
    "X_test = sequence.pad_sequences(X_test, maxlen=max_words)  \n",
    "model = Sequential()  \n",
    "model.add(Embedding(top_words, 32, input_length=max_words))  \n",
    "model.add(Convolution1D(nb_filter=32, filter_length=3, border_mode='same', activation='relu'))  \n",
    "model.add(MaxPooling1D(pool_length=2))  \n",
    "model.add(Flatten())  \n",
    "model.add(Dense(250, activation='relu'))  \n",
    "model.add(Dense(1, activation='sigmoid'))  \n",
    "model.compile(loss='binary_crossentropy', optimizer='adam', metrics=['accuracy'])  \n",
    "print(model.summary())  \n",
    "model.fit(X_train, y_train, validation_data=(X_test, y_test), nb_epoch=2, batch_size=128, verbose=1)  \n",
    "scores = model.evaluate(X_test, y_test, verbose=0)  \n",
    "print(\"Accuracy: %.2f%%\" % (scores[1]*100))"
   ]
  },
  {
   "cell_type": "code",
   "execution_count": null,
   "metadata": {
    "collapsed": true
   },
   "outputs": [],
   "source": []
  }
 ],
 "metadata": {
  "kernelspec": {
   "display_name": "Python 3",
   "language": "python",
   "name": "python3"
  },
  "language_info": {
   "codemirror_mode": {
    "name": "ipython",
    "version": 3
   },
   "file_extension": ".py",
   "mimetype": "text/x-python",
   "name": "python",
   "nbconvert_exporter": "python",
   "pygments_lexer": "ipython3",
   "version": "3.6.2"
  }
 },
 "nbformat": 4,
 "nbformat_minor": 2
}
